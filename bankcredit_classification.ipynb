{
  "cells": [
    {
      "cell_type": "code",
      "source": [
        "!pip install openml\n",
        "import openml\n",
        "import pandas as pd\n",
        "import numpy as np\n",
        "import seaborn as sns\n",
        "import matplotlib.pyplot as plt\n",
        "\n",
        "\n",
        "# Access data with API Key\n",
        "openml.config.apikey = 'd1d7d235b5af2860d5e4962ed225765e'\n",
        "\n",
        "# Connect data\n",
        "dataset = openml.datasets.get_dataset(1461)\n",
        "\n",
        "# Construct dataFrame\n",
        "data_tuple = dataset.get_data(target=dataset.default_target_attribute)\n",
        "\n",
        "X = data_tuple[0]\n",
        "y = data_tuple[1]\n",
        "df = X.copy()\n",
        "\n",
        "# Rename the columns\n",
        "df.columns = [\n",
        "    'age', 'job', 'marital', 'education', 'default', 'balance', 'housing',\n",
        "    'loan', 'contact', 'day', 'month', 'duration', 'campaign', 'pdays',\n",
        "    'previous', 'poutcome'\n",
        "]\n",
        "\n",
        "df['target'] = y\n",
        "\n",
        "# Check dataframe\n",
        "print(df.head(5))"
      ],
      "metadata": {
        "colab": {
          "base_uri": "https://localhost:8080/"
        },
        "id": "_jYuXRisTU0N",
        "outputId": "9b31587f-36d4-4551-a0ed-9ded7a699e4b"
      },
      "id": "_jYuXRisTU0N",
      "execution_count": 14,
      "outputs": [
        {
          "output_type": "stream",
          "name": "stdout",
          "text": [
            "Requirement already satisfied: openml in /usr/local/lib/python3.11/dist-packages (0.15.1)\n",
            "Requirement already satisfied: liac-arff>=2.4.0 in /usr/local/lib/python3.11/dist-packages (from openml) (2.5.0)\n",
            "Requirement already satisfied: xmltodict in /usr/local/lib/python3.11/dist-packages (from openml) (0.14.2)\n",
            "Requirement already satisfied: requests in /usr/local/lib/python3.11/dist-packages (from openml) (2.32.3)\n",
            "Requirement already satisfied: scikit-learn>=0.18 in /usr/local/lib/python3.11/dist-packages (from openml) (1.6.1)\n",
            "Requirement already satisfied: python-dateutil in /usr/local/lib/python3.11/dist-packages (from openml) (2.9.0.post0)\n",
            "Requirement already satisfied: pandas>=1.0.0 in /usr/local/lib/python3.11/dist-packages (from openml) (2.2.2)\n",
            "Requirement already satisfied: scipy>=0.13.3 in /usr/local/lib/python3.11/dist-packages (from openml) (1.15.3)\n",
            "Requirement already satisfied: numpy>=1.6.2 in /usr/local/lib/python3.11/dist-packages (from openml) (2.0.2)\n",
            "Requirement already satisfied: minio in /usr/local/lib/python3.11/dist-packages (from openml) (7.2.15)\n",
            "Requirement already satisfied: pyarrow in /usr/local/lib/python3.11/dist-packages (from openml) (18.1.0)\n",
            "Requirement already satisfied: tqdm in /usr/local/lib/python3.11/dist-packages (from openml) (4.67.1)\n",
            "Requirement already satisfied: packaging in /usr/local/lib/python3.11/dist-packages (from openml) (24.2)\n",
            "Requirement already satisfied: pytz>=2020.1 in /usr/local/lib/python3.11/dist-packages (from pandas>=1.0.0->openml) (2025.2)\n",
            "Requirement already satisfied: tzdata>=2022.7 in /usr/local/lib/python3.11/dist-packages (from pandas>=1.0.0->openml) (2025.2)\n",
            "Requirement already satisfied: six>=1.5 in /usr/local/lib/python3.11/dist-packages (from python-dateutil->openml) (1.17.0)\n",
            "Requirement already satisfied: joblib>=1.2.0 in /usr/local/lib/python3.11/dist-packages (from scikit-learn>=0.18->openml) (1.5.1)\n",
            "Requirement already satisfied: threadpoolctl>=3.1.0 in /usr/local/lib/python3.11/dist-packages (from scikit-learn>=0.18->openml) (3.6.0)\n",
            "Requirement already satisfied: certifi in /usr/local/lib/python3.11/dist-packages (from minio->openml) (2025.6.15)\n",
            "Requirement already satisfied: urllib3 in /usr/local/lib/python3.11/dist-packages (from minio->openml) (2.4.0)\n",
            "Requirement already satisfied: argon2-cffi in /usr/local/lib/python3.11/dist-packages (from minio->openml) (25.1.0)\n",
            "Requirement already satisfied: pycryptodome in /usr/local/lib/python3.11/dist-packages (from minio->openml) (3.23.0)\n",
            "Requirement already satisfied: typing-extensions in /usr/local/lib/python3.11/dist-packages (from minio->openml) (4.14.0)\n",
            "Requirement already satisfied: charset-normalizer<4,>=2 in /usr/local/lib/python3.11/dist-packages (from requests->openml) (3.4.2)\n",
            "Requirement already satisfied: idna<4,>=2.5 in /usr/local/lib/python3.11/dist-packages (from requests->openml) (3.10)\n",
            "Requirement already satisfied: argon2-cffi-bindings in /usr/local/lib/python3.11/dist-packages (from argon2-cffi->minio->openml) (21.2.0)\n",
            "Requirement already satisfied: cffi>=1.0.1 in /usr/local/lib/python3.11/dist-packages (from argon2-cffi-bindings->argon2-cffi->minio->openml) (1.17.1)\n",
            "Requirement already satisfied: pycparser in /usr/local/lib/python3.11/dist-packages (from cffi>=1.0.1->argon2-cffi-bindings->argon2-cffi->minio->openml) (2.22)\n",
            "   age           job  marital  education default  balance housing loan  \\\n",
            "0   58    management  married   tertiary      no   2143.0     yes   no   \n",
            "1   44    technician   single  secondary      no     29.0     yes   no   \n",
            "2   33  entrepreneur  married  secondary      no      2.0     yes  yes   \n",
            "3   47   blue-collar  married    unknown      no   1506.0     yes   no   \n",
            "4   33       unknown   single    unknown      no      1.0      no   no   \n",
            "\n",
            "   contact  day month  duration  campaign  pdays  previous poutcome target  \n",
            "0  unknown    5   may     261.0         1   -1.0       0.0  unknown      1  \n",
            "1  unknown    5   may     151.0         1   -1.0       0.0  unknown      1  \n",
            "2  unknown    5   may      76.0         1   -1.0       0.0  unknown      1  \n",
            "3  unknown    5   may      92.0         1   -1.0       0.0  unknown      1  \n",
            "4  unknown    5   may     198.0         1   -1.0       0.0  unknown      1  \n"
          ]
        }
      ]
    },
    {
      "cell_type": "code",
      "source": [
        "# Check for null values\n",
        "print(df.isnull().sum())\n",
        "\n",
        "# Check data statistics\n",
        "print(df.describe())"
      ],
      "metadata": {
        "colab": {
          "base_uri": "https://localhost:8080/"
        },
        "id": "-WoYHCpKTc__",
        "outputId": "05062c68-1a15-4463-fd47-227c923447d5"
      },
      "id": "-WoYHCpKTc__",
      "execution_count": 15,
      "outputs": [
        {
          "output_type": "stream",
          "name": "stdout",
          "text": [
            "age          0\n",
            "job          0\n",
            "marital      0\n",
            "education    0\n",
            "default      0\n",
            "balance      0\n",
            "housing      0\n",
            "loan         0\n",
            "contact      0\n",
            "day          0\n",
            "month        0\n",
            "duration     0\n",
            "campaign     0\n",
            "pdays        0\n",
            "previous     0\n",
            "poutcome     0\n",
            "target       0\n",
            "dtype: int64\n",
            "                age        balance           day      duration      campaign  \\\n",
            "count  45211.000000   45211.000000  45211.000000  45211.000000  45211.000000   \n",
            "mean      40.936210    1362.272058     15.806419    258.163080      2.763841   \n",
            "std       10.618762    3044.765829      8.322476    257.527812      3.098021   \n",
            "min       18.000000   -8019.000000      1.000000      0.000000      1.000000   \n",
            "25%       33.000000      72.000000      8.000000    103.000000      1.000000   \n",
            "50%       39.000000     448.000000     16.000000    180.000000      2.000000   \n",
            "75%       48.000000    1428.000000     21.000000    319.000000      3.000000   \n",
            "max       95.000000  102127.000000     31.000000   4918.000000     63.000000   \n",
            "\n",
            "              pdays      previous  \n",
            "count  45211.000000  45211.000000  \n",
            "mean      40.197828      0.580323  \n",
            "std      100.128746      2.303441  \n",
            "min       -1.000000      0.000000  \n",
            "25%       -1.000000      0.000000  \n",
            "50%       -1.000000      0.000000  \n",
            "75%       -1.000000      0.000000  \n",
            "max      871.000000    275.000000  \n"
          ]
        }
      ]
    },
    {
      "cell_type": "code",
      "source": [
        "df.info()"
      ],
      "metadata": {
        "colab": {
          "base_uri": "https://localhost:8080/"
        },
        "id": "fsLNTzK4ThIU",
        "outputId": "52fecfad-a721-4e77-d7be-1ca4e01af82e"
      },
      "id": "fsLNTzK4ThIU",
      "execution_count": 16,
      "outputs": [
        {
          "output_type": "stream",
          "name": "stdout",
          "text": [
            "<class 'pandas.core.frame.DataFrame'>\n",
            "RangeIndex: 45211 entries, 0 to 45210\n",
            "Data columns (total 17 columns):\n",
            " #   Column     Non-Null Count  Dtype   \n",
            "---  ------     --------------  -----   \n",
            " 0   age        45211 non-null  uint8   \n",
            " 1   job        45211 non-null  category\n",
            " 2   marital    45211 non-null  category\n",
            " 3   education  45211 non-null  category\n",
            " 4   default    45211 non-null  category\n",
            " 5   balance    45211 non-null  float64 \n",
            " 6   housing    45211 non-null  category\n",
            " 7   loan       45211 non-null  category\n",
            " 8   contact    45211 non-null  category\n",
            " 9   day        45211 non-null  uint8   \n",
            " 10  month      45211 non-null  category\n",
            " 11  duration   45211 non-null  float64 \n",
            " 12  campaign   45211 non-null  uint8   \n",
            " 13  pdays      45211 non-null  float64 \n",
            " 14  previous   45211 non-null  float64 \n",
            " 15  poutcome   45211 non-null  category\n",
            " 16  target     45211 non-null  category\n",
            "dtypes: category(10), float64(4), uint8(3)\n",
            "memory usage: 1.9 MB\n"
          ]
        }
      ]
    },
    {
      "cell_type": "code",
      "source": [
        "cat_cols = df.select_dtypes(include=['object', 'category']).columns\n",
        "\n",
        "for col in cat_cols:\n",
        "  print(col,\":\", df[col].unique())"
      ],
      "metadata": {
        "id": "mbWMcf4NUTAl",
        "outputId": "ef8f3e62-3cf1-4daa-e208-6547fea65ee8",
        "colab": {
          "base_uri": "https://localhost:8080/"
        }
      },
      "id": "mbWMcf4NUTAl",
      "execution_count": 17,
      "outputs": [
        {
          "output_type": "stream",
          "name": "stdout",
          "text": [
            "job : ['management', 'technician', 'entrepreneur', 'blue-collar', 'unknown', ..., 'services', 'self-employed', 'unemployed', 'housemaid', 'student']\n",
            "Length: 12\n",
            "Categories (12, object): ['admin.' < 'blue-collar' < 'entrepreneur' < 'housemaid' ... 'student' <\n",
            "                          'technician' < 'unemployed' < 'unknown']\n",
            "marital : ['married', 'single', 'divorced']\n",
            "Categories (3, object): ['divorced' < 'married' < 'single']\n",
            "education : ['tertiary', 'secondary', 'unknown', 'primary']\n",
            "Categories (4, object): ['primary' < 'secondary' < 'tertiary' < 'unknown']\n",
            "default : ['no', 'yes']\n",
            "Categories (2, object): ['no' < 'yes']\n",
            "housing : ['yes', 'no']\n",
            "Categories (2, object): ['no' < 'yes']\n",
            "loan : ['no', 'yes']\n",
            "Categories (2, object): ['no' < 'yes']\n",
            "contact : ['unknown', 'cellular', 'telephone']\n",
            "Categories (3, object): ['cellular' < 'telephone' < 'unknown']\n",
            "month : ['may', 'jun', 'jul', 'aug', 'oct', ..., 'jan', 'feb', 'mar', 'apr', 'sep']\n",
            "Length: 12\n",
            "Categories (12, object): ['apr' < 'aug' < 'dec' < 'feb' ... 'may' < 'nov' < 'oct' < 'sep']\n",
            "poutcome : ['unknown', 'failure', 'other', 'success']\n",
            "Categories (4, object): ['failure' < 'other' < 'success' < 'unknown']\n",
            "target : ['1', '2']\n",
            "Categories (2, object): ['1' < '2']\n"
          ]
        }
      ]
    },
    {
      "cell_type": "code",
      "source": [
        "# Import sklearn object\n",
        "\n",
        "from sklearn.model_selection import train_test_split\n",
        "from sklearn.naive_bayes import GaussianNB\n",
        "from sklearn.metrics import mean_squared_error,r2_score"
      ],
      "metadata": {
        "id": "_34vYLHMZLMo"
      },
      "id": "_34vYLHMZLMo",
      "execution_count": 21,
      "outputs": []
    },
    {
      "cell_type": "code",
      "source": [
        "# Make target column binary\n",
        "df.target = df.target.map({'yes':1, 'no':0})\n",
        "\n",
        "# Converting non-numeric variables into numeric variables\n",
        "cat_cols = df.drop('target', axis=1).select_dtypes(include={'object', 'category'}).columns\n",
        "\n",
        "# One-hot encoding\n",
        "df_encoded = pd.get_dummies(df, columns=cat_cols, drop_first=True)\n",
        "df_encoded = df_encoded.astype({col: int for col in df_encoded.select_dtypes(include='bool').columns})\n",
        "\n",
        "# Split variables and target\n",
        "X = df_encoded\n",
        "y = df_encoded['target']\n"
      ],
      "metadata": {
        "id": "0fP1j1UYZmhJ"
      },
      "id": "0fP1j1UYZmhJ",
      "execution_count": 24,
      "outputs": []
    },
    {
      "cell_type": "code",
      "source": [
        "# Split test and train data\n",
        "X_train, X_test, y_train, y_test = train_test_split(X,y, test_size = 0.2, random_state = 42)"
      ],
      "metadata": {
        "id": "O8LWiY-WUaVN"
      },
      "id": "O8LWiY-WUaVN",
      "execution_count": 25,
      "outputs": []
    }
  ],
  "metadata": {
    "colab": {
      "provenance": []
    },
    "language_info": {
      "name": "python"
    },
    "kernelspec": {
      "name": "python3",
      "display_name": "Python 3"
    }
  },
  "nbformat": 4,
  "nbformat_minor": 5
}