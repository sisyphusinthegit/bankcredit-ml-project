{
  "cells": [
    {
      "cell_type": "markdown",
      "metadata": {
        "id": "view-in-github",
        "colab_type": "text"
      },
      "source": [
        "<a href=\"https://colab.research.google.com/github/sisyphusinthejungle/omdb-ml-project/blob/main/omdb_analysis.ipynb\" target=\"_parent\"><img src=\"https://colab.research.google.com/assets/colab-badge.svg\" alt=\"Open In Colab\"/></a>"
      ]
    },
    {
      "cell_type": "code",
      "source": [
        "import openml\n",
        "import pandas as pd\n",
        "\n",
        "# Access data with API Key\n",
        "openml.config.apikey = 'd1d7d235b5af2860d5e4962ed225765e'\n",
        "\n",
        "# Connect data\n",
        "dataset = openml.datasets.get_dataset(1461)\n",
        "\n",
        "# Construct dataFrame\n",
        "data_tuple = dataset.get_data(target=dataset.default_target_attribute)\n",
        "\n",
        "X = data_tuple[0]\n",
        "y = data_tuple[1]\n",
        "df = X.copy()\n",
        "\n",
        "# Rename the columns\n",
        "df.columns = [\n",
        "    'age', 'job', 'marital', 'education', 'default', 'balance', 'housing',\n",
        "    'loan', 'contact', 'day', 'month', 'duration', 'campaign', 'pdays',\n",
        "    'previous', 'poutcome'\n",
        "]\n",
        "\n",
        "df['target'] = y\n",
        "\n",
        "# Check dataframe\n",
        "print(df.head(5))\n"
      ],
      "metadata": {
        "id": "3ME_jCezV63E",
        "outputId": "f7fb319f-6850-4a60-f235-7d793d65e6d1",
        "colab": {
          "base_uri": "https://localhost:8080/"
        }
      },
      "execution_count": 27,
      "outputs": [
        {
          "output_type": "stream",
          "name": "stdout",
          "text": [
            "   age           job  marital  education default  balance housing loan  \\\n",
            "0   58    management  married   tertiary      no   2143.0     yes   no   \n",
            "1   44    technician   single  secondary      no     29.0     yes   no   \n",
            "2   33  entrepreneur  married  secondary      no      2.0     yes  yes   \n",
            "3   47   blue-collar  married    unknown      no   1506.0     yes   no   \n",
            "4   33       unknown   single    unknown      no      1.0      no   no   \n",
            "\n",
            "   contact  day month  duration  campaign  pdays  previous poutcome target  \n",
            "0  unknown    5   may     261.0         1   -1.0       0.0  unknown      1  \n",
            "1  unknown    5   may     151.0         1   -1.0       0.0  unknown      1  \n",
            "2  unknown    5   may      76.0         1   -1.0       0.0  unknown      1  \n",
            "3  unknown    5   may      92.0         1   -1.0       0.0  unknown      1  \n",
            "4  unknown    5   may     198.0         1   -1.0       0.0  unknown      1  \n"
          ]
        }
      ]
    },
    {
      "cell_type": "code",
      "source": [],
      "metadata": {
        "id": "KET6N7Xvadbb"
      },
      "execution_count": null,
      "outputs": []
    },
    {
      "cell_type": "code",
      "source": [
        "# Check for null values\n",
        "print(df.isnull().sum())\n",
        "\n",
        "# Check data statistics\n",
        "print(df.describe())"
      ],
      "metadata": {
        "id": "-esJjuV-Z-fV",
        "outputId": "0eb2da7e-126c-4884-aafa-5ce4dfa6b173",
        "colab": {
          "base_uri": "https://localhost:8080/"
        }
      },
      "execution_count": 31,
      "outputs": [
        {
          "output_type": "stream",
          "name": "stdout",
          "text": [
            "age          0\n",
            "job          0\n",
            "marital      0\n",
            "education    0\n",
            "default      0\n",
            "balance      0\n",
            "housing      0\n",
            "loan         0\n",
            "contact      0\n",
            "day          0\n",
            "month        0\n",
            "duration     0\n",
            "campaign     0\n",
            "pdays        0\n",
            "previous     0\n",
            "poutcome     0\n",
            "target       0\n",
            "dtype: int64\n",
            "                age        balance           day      duration      campaign  \\\n",
            "count  45211.000000   45211.000000  45211.000000  45211.000000  45211.000000   \n",
            "mean      40.936210    1362.272058     15.806419    258.163080      2.763841   \n",
            "std       10.618762    3044.765829      8.322476    257.527812      3.098021   \n",
            "min       18.000000   -8019.000000      1.000000      0.000000      1.000000   \n",
            "25%       33.000000      72.000000      8.000000    103.000000      1.000000   \n",
            "50%       39.000000     448.000000     16.000000    180.000000      2.000000   \n",
            "75%       48.000000    1428.000000     21.000000    319.000000      3.000000   \n",
            "max       95.000000  102127.000000     31.000000   4918.000000     63.000000   \n",
            "\n",
            "              pdays      previous  \n",
            "count  45211.000000  45211.000000  \n",
            "mean      40.197828      0.580323  \n",
            "std      100.128746      2.303441  \n",
            "min       -1.000000      0.000000  \n",
            "25%       -1.000000      0.000000  \n",
            "50%       -1.000000      0.000000  \n",
            "75%       -1.000000      0.000000  \n",
            "max      871.000000    275.000000  \n"
          ]
        }
      ]
    }
  ],
  "metadata": {
    "colab": {
      "provenance": [],
      "include_colab_link": true
    },
    "language_info": {
      "name": "python"
    },
    "kernelspec": {
      "name": "python3",
      "display_name": "Python 3"
    }
  },
  "nbformat": 4,
  "nbformat_minor": 0
}