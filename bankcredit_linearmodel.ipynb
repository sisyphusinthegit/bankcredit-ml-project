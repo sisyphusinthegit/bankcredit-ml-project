{
  "cells": [
    {
      "cell_type": "code",
      "source": [
        "!pip install openml\n",
        "import openml\n",
        "import pandas as pd\n",
        "import numpy as np\n",
        "import seaborn as sns\n",
        "import matplotlib.pyplot as plt\n",
        "\n",
        "\n",
        "# Access data with API Key\n",
        "openml.config.apikey = 'd1d7d235b5af2860d5e4962ed225765e'\n",
        "\n",
        "# Connect data\n",
        "dataset = openml.datasets.get_dataset(1461)\n",
        "\n",
        "# Construct dataFrame\n",
        "data_tuple = dataset.get_data(target=dataset.default_target_attribute)\n",
        "\n",
        "X = data_tuple[0]\n",
        "y = data_tuple[1]\n",
        "df = X.copy()\n",
        "\n",
        "# Rename the columns\n",
        "df.columns = [\n",
        "    'age', 'job', 'marital', 'education', 'default', 'balance', 'housing',\n",
        "    'loan', 'contact', 'day', 'month', 'duration', 'campaign', 'pdays',\n",
        "    'previous', 'poutcome'\n",
        "]\n",
        "\n",
        "df['target'] = y\n",
        "\n",
        "# Check dataframe\n",
        "print(df.head(5))"
      ],
      "metadata": {
        "colab": {
          "base_uri": "https://localhost:8080/"
        },
        "id": "3ME_jCezV63E",
        "outputId": "2f218187-aeaf-4355-ba3c-757099761a68"
      },
      "execution_count": null,
      "outputs": [
        {
          "output_type": "stream",
          "name": "stdout",
          "text": [
            "   age           job  marital  education default  balance housing loan  \\\n",
            "0   58    management  married   tertiary      no   2143.0     yes   no   \n",
            "1   44    technician   single  secondary      no     29.0     yes   no   \n",
            "2   33  entrepreneur  married  secondary      no      2.0     yes  yes   \n",
            "3   47   blue-collar  married    unknown      no   1506.0     yes   no   \n",
            "4   33       unknown   single    unknown      no      1.0      no   no   \n",
            "\n",
            "   contact  day month  duration  campaign  pdays  previous poutcome target  \n",
            "0  unknown    5   may     261.0         1   -1.0       0.0  unknown      1  \n",
            "1  unknown    5   may     151.0         1   -1.0       0.0  unknown      1  \n",
            "2  unknown    5   may      76.0         1   -1.0       0.0  unknown      1  \n",
            "3  unknown    5   may      92.0         1   -1.0       0.0  unknown      1  \n",
            "4  unknown    5   may     198.0         1   -1.0       0.0  unknown      1  \n"
          ]
        }
      ]
    },
    {
      "cell_type": "code",
      "source": [
        "# Check for null values\n",
        "print(df.isnull().sum())\n",
        "\n",
        "# Check data statistics\n",
        "print(df.describe())"
      ],
      "metadata": {
        "colab": {
          "base_uri": "https://localhost:8080/"
        },
        "id": "-esJjuV-Z-fV",
        "outputId": "efff52ff-0bf7-46f4-c505-438891c3e4af"
      },
      "execution_count": null,
      "outputs": [
        {
          "output_type": "stream",
          "name": "stdout",
          "text": [
            "age          0\n",
            "job          0\n",
            "marital      0\n",
            "education    0\n",
            "default      0\n",
            "balance      0\n",
            "housing      0\n",
            "loan         0\n",
            "contact      0\n",
            "day          0\n",
            "month        0\n",
            "duration     0\n",
            "campaign     0\n",
            "pdays        0\n",
            "previous     0\n",
            "poutcome     0\n",
            "target       0\n",
            "dtype: int64\n",
            "                age        balance           day      duration      campaign  \\\n",
            "count  45211.000000   45211.000000  45211.000000  45211.000000  45211.000000   \n",
            "mean      40.936210    1362.272058     15.806419    258.163080      2.763841   \n",
            "std       10.618762    3044.765829      8.322476    257.527812      3.098021   \n",
            "min       18.000000   -8019.000000      1.000000      0.000000      1.000000   \n",
            "25%       33.000000      72.000000      8.000000    103.000000      1.000000   \n",
            "50%       39.000000     448.000000     16.000000    180.000000      2.000000   \n",
            "75%       48.000000    1428.000000     21.000000    319.000000      3.000000   \n",
            "max       95.000000  102127.000000     31.000000   4918.000000     63.000000   \n",
            "\n",
            "              pdays      previous  \n",
            "count  45211.000000  45211.000000  \n",
            "mean      40.197828      0.580323  \n",
            "std      100.128746      2.303441  \n",
            "min       -1.000000      0.000000  \n",
            "25%       -1.000000      0.000000  \n",
            "50%       -1.000000      0.000000  \n",
            "75%       -1.000000      0.000000  \n",
            "max      871.000000    275.000000  \n"
          ]
        }
      ]
    },
    {
      "cell_type": "code",
      "source": [
        "df.info()"
      ],
      "metadata": {
        "colab": {
          "base_uri": "https://localhost:8080/"
        },
        "id": "7DOHs69jddAN",
        "outputId": "9421fb95-7a8c-453f-c73d-bf5c1130da60"
      },
      "execution_count": null,
      "outputs": [
        {
          "output_type": "stream",
          "name": "stdout",
          "text": [
            "<class 'pandas.core.frame.DataFrame'>\n",
            "RangeIndex: 45211 entries, 0 to 45210\n",
            "Data columns (total 17 columns):\n",
            " #   Column     Non-Null Count  Dtype   \n",
            "---  ------     --------------  -----   \n",
            " 0   age        45211 non-null  uint8   \n",
            " 1   job        45211 non-null  category\n",
            " 2   marital    45211 non-null  category\n",
            " 3   education  45211 non-null  category\n",
            " 4   default    45211 non-null  category\n",
            " 5   balance    45211 non-null  float64 \n",
            " 6   housing    45211 non-null  category\n",
            " 7   loan       45211 non-null  category\n",
            " 8   contact    45211 non-null  category\n",
            " 9   day        45211 non-null  uint8   \n",
            " 10  month      45211 non-null  category\n",
            " 11  duration   45211 non-null  float64 \n",
            " 12  campaign   45211 non-null  uint8   \n",
            " 13  pdays      45211 non-null  float64 \n",
            " 14  previous   45211 non-null  float64 \n",
            " 15  poutcome   45211 non-null  category\n",
            " 16  target     45211 non-null  category\n",
            "dtypes: category(10), float64(4), uint8(3)\n",
            "memory usage: 1.9 MB\n"
          ]
        }
      ]
    },
    {
      "cell_type": "code",
      "source": [
        "cat_cols = df.select_dtypes(include=['object', 'category']).columns\n",
        "\n",
        "for col in cat_cols:\n",
        "  print(col,\":\", df[col].unique())\n"
      ],
      "metadata": {
        "colab": {
          "base_uri": "https://localhost:8080/"
        },
        "id": "dYcSFo0EijVP",
        "outputId": "3356d745-65bf-44dc-f82e-f9ccd021aeed"
      },
      "execution_count": null,
      "outputs": [
        {
          "output_type": "stream",
          "name": "stdout",
          "text": [
            "job : ['management', 'technician', 'entrepreneur', 'blue-collar', 'unknown', ..., 'services', 'self-employed', 'unemployed', 'housemaid', 'student']\n",
            "Length: 12\n",
            "Categories (12, object): ['admin.' < 'blue-collar' < 'entrepreneur' < 'housemaid' ... 'student' <\n",
            "                          'technician' < 'unemployed' < 'unknown']\n",
            "marital : ['married', 'single', 'divorced']\n",
            "Categories (3, object): ['divorced' < 'married' < 'single']\n",
            "education : ['tertiary', 'secondary', 'unknown', 'primary']\n",
            "Categories (4, object): ['primary' < 'secondary' < 'tertiary' < 'unknown']\n",
            "default : ['no', 'yes']\n",
            "Categories (2, object): ['no' < 'yes']\n",
            "housing : ['yes', 'no']\n",
            "Categories (2, object): ['no' < 'yes']\n",
            "loan : ['no', 'yes']\n",
            "Categories (2, object): ['no' < 'yes']\n",
            "contact : ['unknown', 'cellular', 'telephone']\n",
            "Categories (3, object): ['cellular' < 'telephone' < 'unknown']\n",
            "month : ['may', 'jun', 'jul', 'aug', 'oct', ..., 'jan', 'feb', 'mar', 'apr', 'sep']\n",
            "Length: 12\n",
            "Categories (12, object): ['apr' < 'aug' < 'dec' < 'feb' ... 'may' < 'nov' < 'oct' < 'sep']\n",
            "poutcome : ['unknown', 'failure', 'other', 'success']\n",
            "Categories (4, object): ['failure' < 'other' < 'success' < 'unknown']\n",
            "target : ['1', '2']\n",
            "Categories (2, object): ['1' < '2']\n"
          ]
        }
      ]
    },
    {
      "cell_type": "code",
      "source": [
        "# Import sklearn objects\n",
        "\n",
        "from sklearn.model_selection import train_test_split\n",
        "from sklearn.linear_model import LinearRegression\n",
        "from sklearn.metrics import mean_squared_error, r2_score\n"
      ],
      "metadata": {
        "id": "85yxHwOactP_"
      },
      "execution_count": null,
      "outputs": []
    },
    {
      "cell_type": "code",
      "source": [
        "# Split variables and target\n",
        "X = df.drop(\"target\", axis =1)\n",
        "y = df[\"target\"]\n",
        "\n",
        "# Converting non-numeric variables into numeric variables\n",
        "cat_cols = df.select_dtypes(include=['object', 'category']).columns\n",
        "\n",
        "# One-hot encoding\n",
        "df_encoded = pd.get_dummies(df, columns=cat_cols, drop_first=True)\n",
        "\n",
        "# Split features and target\n",
        "X = df_encoded.drop('target_2', axis=1)\n",
        "y = df_encoded['target_2']\n",
        "\n"
      ],
      "metadata": {
        "id": "DklPqjtuel8z"
      },
      "execution_count": null,
      "outputs": []
    },
    {
      "cell_type": "code",
      "source": [
        "X_train, x_test, y_train, y_test = train_test_split(X,y, test_size = 0.2, random_state = 42)"
      ],
      "metadata": {
        "id": "ianWuKC4fKyZ"
      },
      "execution_count": null,
      "outputs": []
    },
    {
      "cell_type": "code",
      "source": [
        "lm = LinearRegression()\n",
        "lm.fit(X_train, y_train)\n",
        "y_pred = lm.predict(x_test)\n",
        "\n",
        "mse = mean_squared_error(y_test, y_pred)\n",
        "r2 = r2_score(y_test, y_pred)\n",
        "\n",
        "print(mse, r2)"
      ],
      "metadata": {
        "colab": {
          "base_uri": "https://localhost:8080/"
        },
        "id": "TDX2jUTLfEWD",
        "outputId": "94bcc47a-7350-4a61-c13e-50aa3e92ffca"
      },
      "execution_count": null,
      "outputs": [
        {
          "output_type": "stream",
          "name": "stdout",
          "text": [
            "0.07324506339323493 0.30959758965795137\n"
          ]
        }
      ]
    },
    {
      "cell_type": "code",
      "source": [],
      "metadata": {
        "id": "TECagsjgh93O"
      },
      "execution_count": null,
      "outputs": []
    }
  ],
  "metadata": {
    "colab": {
      "provenance": []
    },
    "language_info": {
      "name": "python"
    },
    "kernelspec": {
      "name": "python3",
      "display_name": "Python 3"
    }
  },
  "nbformat": 4,
  "nbformat_minor": 0
}